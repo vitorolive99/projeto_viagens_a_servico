{
 "cells": [
  {
   "cell_type": "markdown",
   "metadata": {},
   "source": [
    "Imports necessários"
   ]
  },
  {
   "cell_type": "code",
   "execution_count": 1,
   "metadata": {},
   "outputs": [],
   "source": [
    "import requests\n",
    "from io import BytesIO\n",
    "import zipfile\n",
    "import pandas as pd"
   ]
  },
  {
   "cell_type": "markdown",
   "metadata": {},
   "source": [
    "Download e extração"
   ]
  },
  {
   "cell_type": "code",
   "execution_count": null,
   "metadata": {},
   "outputs": [],
   "source": [
    "'''# URL do arquivo compactado\n",
    "url_do_arquivo_zip = 'https://portaldatransparencia.gov.br/download-de-dados/viagens/2023'\n",
    "\n",
    "# Baixando o arquivo compactado\n",
    "resposta = requests.get(url_do_arquivo_zip)\n",
    "\n",
    "# Verificando se a solicitação foi bem-sucedida\n",
    "if resposta.status_code == 200:\n",
    "    # Lendo o conteúdo do arquivo compactado\n",
    "    conteudo_zip = BytesIO(resposta.content)\n",
    "\n",
    "    # Extraindo o conteúdo do arquivo compactado\n",
    "    with zipfile.ZipFile(conteudo_zip, 'r') as zip_ref:\n",
    "        # Local da extracao\n",
    "        zip_ref.extractall('/csv_files')\n",
    "    print(\"Conteúdo extraído com sucesso!\")\n",
    "else:\n",
    "    print(f\"Falha ao baixar o arquivo. Código de status: {resposta.status_code}\")'''"
   ]
  },
  {
   "cell_type": "markdown",
   "metadata": {},
   "source": [
    "Leitura e transformacao dos arquivos .csv em DataFrame"
   ]
  },
  {
   "cell_type": "code",
   "execution_count": 2,
   "metadata": {},
   "outputs": [],
   "source": [
    "arquivo_viagem = '../csv_files/2023_Viagem.csv'\n",
    "arquivo_passagem = '../csv_files/2023_Passagem.csv'\n",
    "arquivo_trecho = '../csv_files/2023_Trecho.csv'\n",
    "arquivo_pagamento = '../csv_files/2023_Pagamento.csv'\n",
    "\n",
    "# Carregando os dados do arquivo CSV em um DataFrame do pandas\n",
    "df_viagem = pd.read_csv(arquivo_viagem, sep=';', encoding=\"latin-1\")\n",
    "\n",
    "df_passagem = pd.read_csv(arquivo_passagem, sep=';', encoding=\"latin-1\")\n",
    "\n",
    "df_trecho = pd.read_csv(arquivo_trecho, sep=';', encoding=\"latin-1\")\n",
    "\n",
    "df_pagamento = pd.read_csv(arquivo_pagamento, sep=';', encoding=\"latin-1\")\n"
   ]
  },
  {
   "cell_type": "markdown",
   "metadata": {},
   "source": [
    "Tratamento dos dados do dataframe Viagem"
   ]
  },
  {
   "cell_type": "code",
   "execution_count": 3,
   "metadata": {},
   "outputs": [],
   "source": [
    "# Removendo colunas que não serão utilizadas\n",
    "colunas_to_remove = ['Código do órgão superior', 'Nome do órgão superior', 'Código órgão solicitante', 'Nome órgão solicitante', 'Função', 'Descrição Função', 'Período - Data de início', 'Período - Data de fim', 'Destinos', 'Valor diárias', 'Valor passagens']\n",
    "df_viagem.drop(colunas_to_remove, axis=1, inplace=True)\n",
    "\n",
    "# Tratamento para as colunas com valores monetarios\n",
    "colunas_to_numeric = ['Valor devolução', 'Valor outros gastos']\n",
    "for coluna in colunas_to_numeric:\n",
    "    df_viagem[coluna] = df_viagem[coluna].str.replace(',', '.')\n",
    "    df_viagem[coluna] = df_viagem[coluna].apply(pd.to_numeric, errors='coerce')\n"
   ]
  },
  {
   "cell_type": "markdown",
   "metadata": {},
   "source": [
    "Tratamento dos dados do dataframe Passagens"
   ]
  },
  {
   "cell_type": "code",
   "execution_count": 4,
   "metadata": {},
   "outputs": [],
   "source": [
    "# Tratamento para as colunas com valores monetarios\n",
    "colunas_to_numeric = [\"Valor da passagem\",\"Taxa de serviço\"]\n",
    "for coluna in colunas_to_numeric:\n",
    "    df_passagem[coluna] = df_passagem[coluna].str.replace(',', '.')\n",
    "    df_passagem[coluna] = df_passagem[coluna].apply(pd.to_numeric, errors='coerce')\n",
    "\n",
    "# Removendo colunas desnecessárias\n",
    "colunas_to_remove = ['Número da Proposta (PCDP)']\n",
    "df_passagem.drop(colunas_to_remove, axis=1, inplace=True)\n",
    "\n",
    "# Formatando data e hora para formato correto\n",
    "df_passagem['Data da emissão/compra'] = pd.to_datetime(df_passagem['Data da emissão/compra'], format='%d/%m/%Y', errors='coerce')\n",
    "df_passagem['Hora da emissão/compra'] = pd.to_datetime(df_passagem['Hora da emissão/compra'], format='%H:%M', errors='coerce').dt.time\n",
    " "
   ]
  },
  {
   "cell_type": "markdown",
   "metadata": {},
   "source": [
    "Tratamento de dados do dataframe Trecho"
   ]
  },
  {
   "cell_type": "code",
   "execution_count": 5,
   "metadata": {},
   "outputs": [],
   "source": [
    "# Removendo colunas desnecessárias\n",
    "colunas_to_remove = ['Número da Proposta (PCDP)']\n",
    "df_trecho.drop(colunas_to_remove, axis=1, inplace=True)\n",
    "\n",
    "# Tratamento dos valores numericos\n",
    "colunas_to_numeric = ['Número Diárias']\n",
    "df_trecho[colunas_to_numeric] = df_trecho[colunas_to_numeric].apply(lambda x: x.str.replace(',', '.'))\n",
    "df_trecho[colunas_to_numeric] = df_trecho[colunas_to_numeric].apply(pd.to_numeric, errors='coerce')\n",
    "\n",
    "# Tratamento das datas\n",
    "colunas_to_date = ['Origem - Data', 'Destino - Data']\n",
    "df_trecho[colunas_to_date] = df_trecho[colunas_to_date].apply(pd.to_datetime, format='%d/%m/%Y', errors='coerce')\n",
    "\n",
    "# Conversao para boleano\n",
    "df_trecho['Missao?'] = df_trecho['Missao?'].apply(lambda x: True if x == 'Sim' else False)"
   ]
  },
  {
   "cell_type": "markdown",
   "metadata": {},
   "source": [
    "Tratamento de dados do dataframe Pagamento"
   ]
  },
  {
   "cell_type": "code",
   "execution_count": 6,
   "metadata": {},
   "outputs": [],
   "source": [
    "# Removendo colunas desnecessárias\n",
    "colunas_to_remove = ['Número da Proposta (PCDP)']\n",
    "df_pagamento.drop(colunas_to_remove, axis=1, inplace=True)\n",
    "\n",
    "# Tratamento dos valores numericos\n",
    "colunas_to_numeric = ['Valor']\n",
    "df_pagamento[colunas_to_numeric] = df_pagamento[colunas_to_numeric].apply(lambda x: x.str.replace(',', '.'))\n",
    "df_pagamento[colunas_to_numeric] = df_pagamento[colunas_to_numeric].apply(pd.to_numeric, errors='coerce')"
   ]
  },
  {
   "cell_type": "markdown",
   "metadata": {},
   "source": [
    "Inserção no banco"
   ]
  },
  {
   "cell_type": "code",
   "execution_count": 10,
   "metadata": {},
   "outputs": [
    {
     "name": "stdout",
     "output_type": "stream",
     "text": [
      "Erro ao conectar ao banco de dados: Not an executable object: 'SELECT 1'\n"
     ]
    }
   ],
   "source": [
    "from sqlalchemy import create_engine\n",
    "\n",
    "engine = create_engine('mssql+pyodbc://@localhost/db_viagens_a_servico?driver=ODBC+Driver+17+for+SQL+Server')\n",
    "\n",
    "try:\n",
    "    # Executar uma consulta simples\n",
    "    with engine.connect() as connection:\n",
    "        result = connection.execute(\"SELECT 1\")\n",
    "        print(\"Conexão bem-sucedida!\")\n",
    "except Exception as e:\n",
    "    print(\"Erro ao conectar ao banco de dados:\", e)\n",
    "\n",
    "\n"
   ]
  },
  {
   "cell_type": "code",
   "execution_count": null,
   "metadata": {},
   "outputs": [],
   "source": [
    "df_viagem.to_sql('TB_VIAGEM', engine, if_exists='append', index=False)\n",
    "df_passagem.to_sql('TB_PASSAGEM', engine, if_exists='append', index=False)\n",
    "df_trecho.to_sql('TB_TRECHO', engine, if_exists='append', index=False)\n",
    "df_pagamento.to_sql('TB_PAGAMENTO', engine, if_exists='append', index=False)"
   ]
  }
 ],
 "metadata": {
  "kernelspec": {
   "display_name": "venv_viagem",
   "language": "python",
   "name": "python3"
  },
  "language_info": {
   "codemirror_mode": {
    "name": "ipython",
    "version": 3
   },
   "file_extension": ".py",
   "mimetype": "text/x-python",
   "name": "python",
   "nbconvert_exporter": "python",
   "pygments_lexer": "ipython3",
   "version": "3.7.6"
  }
 },
 "nbformat": 4,
 "nbformat_minor": 2
}
