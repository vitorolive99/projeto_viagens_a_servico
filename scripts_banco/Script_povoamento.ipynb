{
 "cells": [
  {
   "cell_type": "markdown",
   "metadata": {},
   "source": [
    "Imports necessários"
   ]
  },
  {
   "cell_type": "code",
   "execution_count": 1,
   "metadata": {},
   "outputs": [],
   "source": [
    "import requests\n",
    "from io import BytesIO\n",
    "import zipfile\n",
    "import pandas as pd"
   ]
  },
  {
   "cell_type": "markdown",
   "metadata": {},
   "source": [
    "Download e extração"
   ]
  },
  {
   "cell_type": "code",
   "execution_count": null,
   "metadata": {},
   "outputs": [],
   "source": [
    "'''# URL do arquivo compactado\n",
    "url_do_arquivo_zip = 'https://portaldatransparencia.gov.br/download-de-dados/viagens/2023'\n",
    "\n",
    "# Baixando o arquivo compactado\n",
    "resposta = requests.get(url_do_arquivo_zip)\n",
    "\n",
    "# Verificando se a solicitação foi bem-sucedida\n",
    "if resposta.status_code == 200:\n",
    "    # Lendo o conteúdo do arquivo compactado\n",
    "    conteudo_zip = BytesIO(resposta.content)\n",
    "\n",
    "    # Extraindo o conteúdo do arquivo compactado\n",
    "    with zipfile.ZipFile(conteudo_zip, 'r') as zip_ref:\n",
    "        # Local da extracao\n",
    "        zip_ref.extractall('/csv_files')\n",
    "    print(\"Conteúdo extraído com sucesso!\")\n",
    "else:\n",
    "    print(f\"Falha ao baixar o arquivo. Código de status: {resposta.status_code}\")'''"
   ]
  },
  {
   "cell_type": "markdown",
   "metadata": {},
   "source": [
    "Leitura e transformacao dos arquivos .csv em DataFrame"
   ]
  },
  {
   "cell_type": "code",
   "execution_count": 39,
   "metadata": {},
   "outputs": [],
   "source": [
    "arquivo_viagem = '../csv_files/2023_Viagem.csv'\n",
    "arquivo_passagem = '../csv_files/2023_Passagem.csv'\n",
    "arquivo_trecho = '../csv_files/2023_Trecho.csv'\n",
    "arquivo_pagamento = '../csv_files/2023_Pagamento.csv'\n",
    "\n",
    "# Carregando os dados do arquivo CSV em um DataFrame do pandas\n",
    "df_viagem = pd.read_csv(arquivo_viagem, sep=';', encoding=\"latin-1\")\n",
    "\n",
    "df_passagem = pd.read_csv(arquivo_passagem, sep=';', encoding=\"latin-1\")\n",
    "\n",
    "df_trecho = pd.read_csv(arquivo_trecho, sep=';', encoding=\"latin-1\")\n",
    "\n",
    "df_pagamento = pd.read_csv(arquivo_pagamento, sep=';', encoding=\"latin-1\")\n"
   ]
  },
  {
   "cell_type": "markdown",
   "metadata": {},
   "source": [
    "Tratamento dos dados do dataframe Viagem"
   ]
  },
  {
   "cell_type": "code",
   "execution_count": 40,
   "metadata": {},
   "outputs": [],
   "source": [
    "# Removendo colunas que não serão utilizadas\n",
    "colunas_to_remove = ['Código do órgão superior', 'Nome do órgão superior', 'Código órgão solicitante', 'Nome órgão solicitante', 'Função', 'Descrição Função', 'Período - Data de início', 'Período - Data de fim', 'Destinos', 'Valor diárias', 'Valor passagens']\n",
    "df_viagem.drop(colunas_to_remove, axis=1, inplace=True)\n",
    "\n",
    "# Tratamento para as colunas com valores monetarios\n",
    "colunas_to_numeric = ['Valor devolução', 'Valor outros gastos']\n",
    "for coluna in colunas_to_numeric:\n",
    "    df_viagem[coluna] = df_viagem[coluna].str.replace(',', '.')\n",
    "    df_viagem[coluna] = df_viagem[coluna].apply(pd.to_numeric, errors='coerce')\n"
   ]
  },
  {
   "cell_type": "markdown",
   "metadata": {},
   "source": [
    "Tratamento dos dados do dataframe Passagens"
   ]
  },
  {
   "cell_type": "code",
   "execution_count": 26,
   "metadata": {},
   "outputs": [],
   "source": [
    "# Tratamento para as colunas com valores monetarios\n",
    "colunas_to_numeric = [\"Valor da passagem\",\"Taxa de serviço\"]\n",
    "for coluna in colunas_to_numeric:\n",
    "    df_passagem[coluna] = df_passagem[coluna].str.replace(',', '.')\n",
    "    df_passagem[coluna] = df_passagem[coluna].apply(pd.to_numeric, errors='coerce')\n",
    "\n",
    "# Extraindo as linhas com informações de volta\n",
    "df_resumido = df_passagem.loc[df_passagem['País - Origem volta'] != 'Sem informação']\n",
    "\n",
    "# Excluindo as linhas com informações de volta\n",
    "df_passagem = df_passagem.loc[df_passagem['País - Origem volta'] == 'Sem informação']\n",
    "\n",
    "# Copiando para novas linhas onde as colunas de volta não estão vazias\n",
    "for index, row in df_resumido.iterrows():\n",
    "    row[15] = row[15]/2\n",
    "    row[16] = row[16]/2\n",
    "\n",
    "    df_resumido.loc[index] = row\n",
    "\n",
    "    nova_linha = row.copy()\n",
    "\n",
    "    nova_linha = [nova_linha[0], None, nova_linha[2], nova_linha[9], nova_linha[10], nova_linha[11], nova_linha[12], nova_linha[13], nova_linha[14], None,None,None,None,None,None, nova_linha[15], nova_linha[16], nova_linha[17], nova_linha[18]]\n",
    "\n",
    "    df_resumido.loc[len(df_resumido)] = nova_linha\n",
    "\n",
    "    '''tempo de execucao = 18m 22.6s'''\n",
    "\n",
    "# Adicionando as linhas com informações de volta ao DataFrame original\n",
    "df_passagem = df_passagem.append(df_resumido, ignore_index=True)\n",
    "\n",
    "# Removendo colunas desnecessárias\n",
    "colunas_to_remove = ['Número da Proposta (PCDP)', 'País - Origem volta', 'UF - Origem volta', 'Cidade - Origem volta', 'Pais - Destino volta', 'UF - Destino volta', 'Cidade - Destino volta']\n",
    "df_passagem.drop(colunas_to_remove, axis=1, inplace=True)\n",
    "\n",
    "# Formatando data e hora para formato correto\n",
    "df_passagem['Data da emissão/compra'] = pd.to_datetime(df_passagem['Data da emissão/compra'], format='%d/%m/%Y', errors='coerce')\n",
    "df_passagem['Hora da emissão/compra'] = pd.to_datetime(df_passagem['Hora da emissão/compra'], format='%H:%M', errors='coerce').dt.time\n",
    " "
   ]
  },
  {
   "cell_type": "markdown",
   "metadata": {},
   "source": [
    "Tratamento de dados do dataframe Trecho"
   ]
  },
  {
   "cell_type": "code",
   "execution_count": 41,
   "metadata": {},
   "outputs": [],
   "source": [
    "# Removendo colunas desnecessárias\n",
    "colunas_to_remove = ['Número da Proposta (PCDP)']\n",
    "df_trecho.drop(colunas_to_remove, axis=1, inplace=True)\n",
    "\n",
    "# Tratamento dos valores numericos\n",
    "colunas_to_numeric = ['Número Diárias']\n",
    "df_trecho[colunas_to_numeric] = df_trecho[colunas_to_numeric].apply(lambda x: x.str.replace(',', '.'))\n",
    "df_trecho[colunas_to_numeric] = df_trecho[colunas_to_numeric].apply(pd.to_numeric, errors='coerce')\n",
    "\n",
    "# Tratamento das datas\n",
    "colunas_to_date = ['Origem - Data', 'Destino - Data']\n",
    "df_trecho[colunas_to_date] = df_trecho[colunas_to_date].apply(pd.to_datetime, format='%d/%m/%Y', errors='coerce')\n",
    "\n",
    "# Conversao para boleano\n",
    "df_trecho['Missao?'] = df_trecho['Missao?'].apply(lambda x: True if x == 'Sim' else False)"
   ]
  },
  {
   "cell_type": "markdown",
   "metadata": {},
   "source": [
    "Tratamento de dados do dataframe Pagamento"
   ]
  },
  {
   "cell_type": "code",
   "execution_count": 42,
   "metadata": {},
   "outputs": [],
   "source": [
    "# Removendo colunas desnecessárias\n",
    "colunas_to_remove = ['Número da Proposta (PCDP)']\n",
    "df_pagamento.drop(colunas_to_remove, axis=1, inplace=True)\n",
    "\n",
    "# Tratamento dos valores numericos\n",
    "colunas_to_numeric = ['Valor']\n",
    "df_pagamento[colunas_to_numeric] = df_pagamento[colunas_to_numeric].apply(lambda x: x.str.replace(',', '.'))\n",
    "df_pagamento[colunas_to_numeric] = df_pagamento[colunas_to_numeric].apply(pd.to_numeric, errors='coerce')"
   ]
  },
  {
   "cell_type": "markdown",
   "metadata": {},
   "source": [
    "Inserção no banco"
   ]
  },
  {
   "cell_type": "code",
   "execution_count": 44,
   "metadata": {},
   "outputs": [
    {
     "ename": "ModuleNotFoundError",
     "evalue": "No module named 'pyodbc'",
     "output_type": "error",
     "traceback": [
      "\u001b[1;31m---------------------------------------------------------------------------\u001b[0m",
      "\u001b[1;31mModuleNotFoundError\u001b[0m                       Traceback (most recent call last)",
      "\u001b[1;32m~\\AppData\\Local\\Temp\\ipykernel_12452\\1451283089.py\u001b[0m in \u001b[0;36m<module>\u001b[1;34m\u001b[0m\n\u001b[0;32m      3\u001b[0m \u001b[1;33m\u001b[0m\u001b[0m\n\u001b[0;32m      4\u001b[0m \u001b[1;33m\u001b[0m\u001b[0m\n\u001b[1;32m----> 5\u001b[1;33m \u001b[0mengine\u001b[0m \u001b[1;33m=\u001b[0m \u001b[0mcreate_engine\u001b[0m\u001b[1;33m(\u001b[0m\u001b[1;34m'mssql+pyodbc://@Localhost/db_viagens_a_servico'\u001b[0m\u001b[1;33m)\u001b[0m\u001b[1;33m\u001b[0m\u001b[1;33m\u001b[0m\u001b[0m\n\u001b[0m",
      "\u001b[1;32me:\\Doc_UFS\\SAD\\projeto_viagens_a_servico\\venv_viagem\\lib\\site-packages\\sqlalchemy\\engine\\create.py\u001b[0m in \u001b[0;36mcreate_engine\u001b[1;34m(url, **kwargs)\u001b[0m\n",
      "\u001b[1;32me:\\Doc_UFS\\SAD\\projeto_viagens_a_servico\\venv_viagem\\lib\\site-packages\\sqlalchemy\\util\\deprecations.py\u001b[0m in \u001b[0;36mwarned\u001b[1;34m(fn, *args, **kwargs)\u001b[0m\n\u001b[0;32m    279\u001b[0m                         \u001b[0mstacklevel\u001b[0m\u001b[1;33m=\u001b[0m\u001b[1;36m3\u001b[0m\u001b[1;33m,\u001b[0m\u001b[1;33m\u001b[0m\u001b[1;33m\u001b[0m\u001b[0m\n\u001b[0;32m    280\u001b[0m                     )\n\u001b[1;32m--> 281\u001b[1;33m             \u001b[1;32mreturn\u001b[0m \u001b[0mfn\u001b[0m\u001b[1;33m(\u001b[0m\u001b[1;33m*\u001b[0m\u001b[0margs\u001b[0m\u001b[1;33m,\u001b[0m \u001b[1;33m**\u001b[0m\u001b[0mkwargs\u001b[0m\u001b[1;33m)\u001b[0m  \u001b[1;31m# type: ignore[no-any-return]\u001b[0m\u001b[1;33m\u001b[0m\u001b[1;33m\u001b[0m\u001b[0m\n\u001b[0m\u001b[0;32m    282\u001b[0m \u001b[1;33m\u001b[0m\u001b[0m\n\u001b[0;32m    283\u001b[0m         \u001b[0mdoc\u001b[0m \u001b[1;33m=\u001b[0m \u001b[0mfn\u001b[0m\u001b[1;33m.\u001b[0m\u001b[0m__doc__\u001b[0m \u001b[1;32mis\u001b[0m \u001b[1;32mnot\u001b[0m \u001b[1;32mNone\u001b[0m \u001b[1;32mand\u001b[0m \u001b[0mfn\u001b[0m\u001b[1;33m.\u001b[0m\u001b[0m__doc__\u001b[0m \u001b[1;32mor\u001b[0m \u001b[1;34m\"\"\u001b[0m\u001b[1;33m\u001b[0m\u001b[1;33m\u001b[0m\u001b[0m\n",
      "\u001b[1;32me:\\Doc_UFS\\SAD\\projeto_viagens_a_servico\\venv_viagem\\lib\\site-packages\\sqlalchemy\\engine\\create.py\u001b[0m in \u001b[0;36mcreate_engine\u001b[1;34m(url, **kwargs)\u001b[0m\n\u001b[0;32m    599\u001b[0m             \u001b[1;32mif\u001b[0m \u001b[0mk\u001b[0m \u001b[1;32min\u001b[0m \u001b[0mkwargs\u001b[0m\u001b[1;33m:\u001b[0m\u001b[1;33m\u001b[0m\u001b[1;33m\u001b[0m\u001b[0m\n\u001b[0;32m    600\u001b[0m                 \u001b[0mdbapi_args\u001b[0m\u001b[1;33m[\u001b[0m\u001b[0mk\u001b[0m\u001b[1;33m]\u001b[0m \u001b[1;33m=\u001b[0m \u001b[0mpop_kwarg\u001b[0m\u001b[1;33m(\u001b[0m\u001b[0mk\u001b[0m\u001b[1;33m)\u001b[0m\u001b[1;33m\u001b[0m\u001b[1;33m\u001b[0m\u001b[0m\n\u001b[1;32m--> 601\u001b[1;33m         \u001b[0mdbapi\u001b[0m \u001b[1;33m=\u001b[0m \u001b[0mdbapi_meth\u001b[0m\u001b[1;33m(\u001b[0m\u001b[1;33m**\u001b[0m\u001b[0mdbapi_args\u001b[0m\u001b[1;33m)\u001b[0m\u001b[1;33m\u001b[0m\u001b[1;33m\u001b[0m\u001b[0m\n\u001b[0m\u001b[0;32m    602\u001b[0m \u001b[1;33m\u001b[0m\u001b[0m\n\u001b[0;32m    603\u001b[0m     \u001b[0mdialect_args\u001b[0m\u001b[1;33m[\u001b[0m\u001b[1;34m\"dbapi\"\u001b[0m\u001b[1;33m]\u001b[0m \u001b[1;33m=\u001b[0m \u001b[0mdbapi\u001b[0m\u001b[1;33m\u001b[0m\u001b[1;33m\u001b[0m\u001b[0m\n",
      "\u001b[1;32me:\\Doc_UFS\\SAD\\projeto_viagens_a_servico\\venv_viagem\\lib\\site-packages\\sqlalchemy\\connectors\\pyodbc.py\u001b[0m in \u001b[0;36mimport_dbapi\u001b[1;34m(cls)\u001b[0m\n\u001b[0;32m     58\u001b[0m     \u001b[1;33m@\u001b[0m\u001b[0mclassmethod\u001b[0m\u001b[1;33m\u001b[0m\u001b[1;33m\u001b[0m\u001b[0m\n\u001b[0;32m     59\u001b[0m     \u001b[1;32mdef\u001b[0m \u001b[0mimport_dbapi\u001b[0m\u001b[1;33m(\u001b[0m\u001b[0mcls\u001b[0m\u001b[1;33m)\u001b[0m \u001b[1;33m->\u001b[0m \u001b[0mModuleType\u001b[0m\u001b[1;33m:\u001b[0m\u001b[1;33m\u001b[0m\u001b[1;33m\u001b[0m\u001b[0m\n\u001b[1;32m---> 60\u001b[1;33m         \u001b[1;32mreturn\u001b[0m \u001b[0m__import__\u001b[0m\u001b[1;33m(\u001b[0m\u001b[1;34m\"pyodbc\"\u001b[0m\u001b[1;33m)\u001b[0m\u001b[1;33m\u001b[0m\u001b[1;33m\u001b[0m\u001b[0m\n\u001b[0m\u001b[0;32m     61\u001b[0m \u001b[1;33m\u001b[0m\u001b[0m\n\u001b[0;32m     62\u001b[0m     \u001b[1;32mdef\u001b[0m \u001b[0mcreate_connect_args\u001b[0m\u001b[1;33m(\u001b[0m\u001b[0mself\u001b[0m\u001b[1;33m,\u001b[0m \u001b[0murl\u001b[0m\u001b[1;33m:\u001b[0m \u001b[0mURL\u001b[0m\u001b[1;33m)\u001b[0m \u001b[1;33m->\u001b[0m \u001b[0mConnectArgsType\u001b[0m\u001b[1;33m:\u001b[0m\u001b[1;33m\u001b[0m\u001b[1;33m\u001b[0m\u001b[0m\n",
      "\u001b[1;31mModuleNotFoundError\u001b[0m: No module named 'pyodbc'"
     ]
    }
   ],
   "source": [
    "from sqlalchemy import create_engine\n",
    "\n",
    "\n",
    "engine = create_engine('mssql+pyodbc://@Localhost/db_viagens_a_servico')"
   ]
  }
 ],
 "metadata": {
  "kernelspec": {
   "display_name": "venv_viagem",
   "language": "python",
   "name": "python3"
  },
  "language_info": {
   "codemirror_mode": {
    "name": "ipython",
    "version": 3
   },
   "file_extension": ".py",
   "mimetype": "text/x-python",
   "name": "python",
   "nbconvert_exporter": "python",
   "pygments_lexer": "ipython3",
   "version": "3.7.6"
  }
 },
 "nbformat": 4,
 "nbformat_minor": 2
}
