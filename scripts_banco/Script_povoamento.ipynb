{
 "cells": [
  {
   "cell_type": "markdown",
   "metadata": {},
   "source": [
    "Imports necessários"
   ]
  },
  {
   "cell_type": "code",
   "execution_count": 2,
   "metadata": {},
   "outputs": [],
   "source": [
    "import requests\n",
    "from io import BytesIO\n",
    "import zipfile\n",
    "import pandas as pd"
   ]
  },
  {
   "cell_type": "markdown",
   "metadata": {},
   "source": [
    "Download e extração"
   ]
  },
  {
   "cell_type": "code",
   "execution_count": null,
   "metadata": {},
   "outputs": [],
   "source": [
    "# URL do arquivo compactado\n",
    "url_do_arquivo_zip = 'https://portaldatransparencia.gov.br/download-de-dados/viagens/2023'\n",
    "\n",
    "# Baixando o arquivo compactado\n",
    "resposta = requests.get(url_do_arquivo_zip)\n",
    "\n",
    "# Verificando se a solicitação foi bem-sucedida\n",
    "if resposta.status_code == 200:\n",
    "    # Lendo o conteúdo do arquivo compactado\n",
    "    conteudo_zip = BytesIO(resposta.content)\n",
    "\n",
    "    # Extraindo o conteúdo do arquivo compactado\n",
    "    with zipfile.ZipFile(conteudo_zip, 'r') as zip_ref:\n",
    "        # Local da extracao\n",
    "        zip_ref.extractall('../csv_files')\n",
    "    print(\"Conteúdo extraído com sucesso!\")\n",
    "else:\n",
    "    print(f\"Falha ao baixar o arquivo. Código de status: {resposta.status_code}\")"
   ]
  },
  {
   "cell_type": "markdown",
   "metadata": {},
   "source": [
    "Leitura e transformacao dos arquivos .csv em DataFrame"
   ]
  },
  {
   "cell_type": "code",
   "execution_count": 19,
   "metadata": {},
   "outputs": [],
   "source": [
    "arquivo_viagem = '../csv_files/2023_Viagem.csv'\n",
    "arquivo_passagem = '../csv_files/2023_Passagem.csv'\n",
    "arquivo_trecho = '../csv_files/2023_Trecho.csv'\n",
    "arquivo_pagamento = '../csv_files/2023_Pagamento.csv'\n",
    "\n",
    "# Carregando os dados do arquivo CSV em um DataFrame do pandas\n",
    "df_viagem = pd.read_csv(arquivo_viagem, sep=';', encoding=\"latin-1\")\n",
    "\n",
    "df_passagem = pd.read_csv(arquivo_passagem, sep=';', encoding=\"latin-1\")\n",
    "\n",
    "df_trecho = pd.read_csv(arquivo_trecho, sep=';', encoding=\"latin-1\")\n",
    "\n",
    "df_pagamento = pd.read_csv(arquivo_pagamento, sep=';', encoding=\"latin-1\")\n"
   ]
  },
  {
   "cell_type": "markdown",
   "metadata": {},
   "source": [
    "Tratamento dos dados do dataframe Viagem"
   ]
  },
  {
   "cell_type": "code",
   "execution_count": 20,
   "metadata": {},
   "outputs": [],
   "source": [
    "# Remover duplicatas mantendo apenas a última ocorrência de ID_PROCESSO_VIAGEM\n",
    "df_viagem = df_viagem.drop_duplicates(subset='Identificador do processo de viagem', keep='last')\n",
    "\n",
    "# Removendo colunas que não serão utilizadas\n",
    "colunas_to_remove = ['Código do órgão superior', 'Nome do órgão superior', 'Código órgão solicitante', 'Nome órgão solicitante', 'Função',\n",
    "                     'Descrição Função', 'Período - Data de fim']\n",
    "df_viagem.drop(colunas_to_remove, axis=1, inplace=True)\n",
    "\n",
    "# Tratamento para as colunas com valores monetarios\n",
    "colunas_to_numeric = ['Valor devolução', 'Valor outros gastos', 'Valor passagens', 'Valor diárias']\n",
    "for coluna in colunas_to_numeric:\n",
    "    df_viagem[coluna] = df_viagem[coluna].str.replace(',', '.')\n",
    "    df_viagem[coluna] = df_viagem[coluna].apply(pd.to_numeric, errors='coerce')\n",
    "\n",
    "# Formatando data e hora para formato correto\n",
    "df_viagem['Período - Data de início'] = pd.to_datetime(df_viagem['Período - Data de início'], format='%d/%m/%Y')\n",
    "\n",
    "# Renomeando as colunas\n",
    "novos_nomes = {'Identificador do processo de viagem': 'ID_PROCESSO_VIAGEM','Número da Proposta (PCDP)': 'NUM_PROPOSTA',\n",
    "               'Situação': 'SITUACAO','Viagem Urgente':'URGENTE','Justificativa Urgência Viagem': 'JUSTIFICATIVA_URGENCIA',\n",
    "               'CPF viajante': 'CPF','Nome' : 'NOME','Cargo': 'CARGO', 'Período - Data de início' : 'DATA', 'Destinos': 'DESTINOS', 'Motivo': 'MOTIVO',\n",
    "               'Valor diárias' : 'VALOR_DIARIAS', 'Valor passagens' : 'VALOR_PASSAGENS', 'Valor devolução': 'VALOR_DEVOLUCAO','Valor outros gastos': 'VALOR_OUTROS'}\n",
    "df_viagem.rename(columns=novos_nomes, inplace=True)\n"
   ]
  },
  {
   "cell_type": "markdown",
   "metadata": {},
   "source": [
    "Tratamento dos dados do dataframe Passagens"
   ]
  },
  {
   "cell_type": "code",
   "execution_count": 14,
   "metadata": {},
   "outputs": [],
   "source": [
    "# Tratamento para as colunas com valores monetarios\n",
    "colunas_to_numeric = [\"Valor da passagem\",\"Taxa de serviço\"]\n",
    "for coluna in colunas_to_numeric:\n",
    "    df_passagem[coluna] = df_passagem[coluna].str.replace(',', '.')\n",
    "    df_passagem[coluna] = df_passagem[coluna].apply(pd.to_numeric, errors='coerce')\n",
    "\n",
    "# Removendo colunas desnecessárias\n",
    "colunas_to_remove = ['Número da Proposta (PCDP)']\n",
    "df_passagem.drop(colunas_to_remove, axis=1, inplace=True)\n",
    "\n",
    "# Formatando data e hora para formato correto\n",
    "df_passagem['Data da emissão/compra'] = pd.to_datetime(df_passagem['Data da emissão/compra'], format='%d/%m/%Y', errors='coerce')\n",
    "df_passagem['Hora da emissão/compra'] = pd.to_datetime(df_passagem['Hora da emissão/compra'], format='%H:%M', errors='coerce').dt.time\n",
    "\n",
    "novos_nomes = {'Meio de transporte': 'TIPO_PASSAGEM','País - Origem ida': 'PAIS_ORIGEM_IDA',\n",
    "               'UF - Origem ida': 'UF_ORIGEM_IDA','Cidade - Origem ida': 'CIDADE_ORIGEM_IDA',\n",
    "               'País - Destino ida': 'PAIS_DESTINO_IDA','UF - Destino ida': 'UF_DESTINO_IDA',\n",
    "               'Cidade - Destino ida': 'CIDADE_DESTINO_IDA','País - Origem volta': 'PAIS_ORIGEM_VOLTA',\n",
    "               'UF - Origem volta': 'UF_ORIGEM_VOLTA','Cidade - Origem volta': 'CIDADE_ORIGEM_VOLTA',\n",
    "               'Pais - Destino volta': 'PAIS_DESTINO_VOLTA','UF - Destino volta': 'UF_DESTINO_VOLTA',\n",
    "               'Cidade - Destino volta': 'CIDADE_DESTINO_VOLTA','Data da emissão/compra': 'DT_COMPRA',\n",
    "               'Hora da emissão/compra': 'HR_COMPRA','Valor da passagem': 'VALOR_PASSAGEM',\n",
    "               'Taxa de serviço': 'VALOR_TAXA_SERVICO','Data da compra': 'DT_COMPRA','Hora da compra': 'HR_COMPRA',\n",
    "               'Identificador do processo de viagem': 'ID_PROCESSO_VIAGEM'}\n",
    "df_passagem.rename(columns=novos_nomes, inplace=True)\n",
    " "
   ]
  },
  {
   "cell_type": "markdown",
   "metadata": {},
   "source": [
    "Tratamento de dados do dataframe Trecho"
   ]
  },
  {
   "cell_type": "code",
   "execution_count": 15,
   "metadata": {},
   "outputs": [],
   "source": [
    "# Removendo colunas desnecessárias\n",
    "colunas_to_remove = ['Número da Proposta (PCDP)']\n",
    "df_trecho.drop(colunas_to_remove, axis=1, inplace=True)\n",
    "\n",
    "# Tratamento dos valores numericos\n",
    "colunas_to_numeric = ['Número Diárias']\n",
    "df_trecho[colunas_to_numeric] = df_trecho[colunas_to_numeric].apply(lambda x: x.str.replace(',', '.'))\n",
    "df_trecho[colunas_to_numeric] = df_trecho[colunas_to_numeric].apply(pd.to_numeric, errors='coerce')\n",
    "\n",
    "# Tratamento das datas\n",
    "colunas_to_date = ['Origem - Data', 'Destino - Data']\n",
    "df_trecho[colunas_to_date] = df_trecho[colunas_to_date].apply(pd.to_datetime, format='%d/%m/%Y', errors='coerce')\n",
    "\n",
    "# Conversao para boleano\n",
    "df_trecho['Missao?'] = df_trecho['Missao?'].apply(lambda x: True if x == 'Sim' else False)\n",
    "\n",
    "novos_nomes = {'Sequência Trecho': 'SEQUENCIA_VIAGEM','Origem - Data': 'DT_ORIGEM','Origem - País' : 'PAIS_ORIGEM','Origem - UF': 'UF_ORIGEM','Origem - Cidade': 'CIDADE_ORIGEM',\n",
    "               'Destino - Data': 'DT_DESTINO','Destino - País': 'PAIS_DESTINO','Destino - UF': 'UF_DESTINO','Destino - Cidade': 'CIDADE_DESTINO','Missao?': 'MISSAO',\n",
    "               'Número Diárias': 'NUM_DIARIAS','Meio de transporte': 'MEIO_TRANSPORTE','Identificador do processo de viagem ': 'ID_PROCESSO_VIAGEM',}\n",
    "df_trecho.rename(columns=novos_nomes, inplace=True)"
   ]
  },
  {
   "cell_type": "markdown",
   "metadata": {},
   "source": [
    "Tratamento de dados do dataframe Pagamento"
   ]
  },
  {
   "cell_type": "code",
   "execution_count": 16,
   "metadata": {},
   "outputs": [],
   "source": [
    "# Removendo colunas desnecessárias\n",
    "colunas_to_remove = ['Número da Proposta (PCDP)']\n",
    "df_pagamento.drop(colunas_to_remove, axis=1, inplace=True)\n",
    "\n",
    "# Tratamento dos valores numericos\n",
    "colunas_to_numeric = ['Valor']\n",
    "df_pagamento[colunas_to_numeric] = df_pagamento[colunas_to_numeric].apply(lambda x: x.str.replace(',', '.'))\n",
    "df_pagamento[colunas_to_numeric] = df_pagamento[colunas_to_numeric].apply(pd.to_numeric, errors='coerce')\n",
    "\n",
    "novos_nomes = {'Código do órgão superior': 'COD_ORGAO_SUPERIOR','Nome do órgão superior': 'NOME_ORGAO_SUPERIOR',\n",
    "               'Codigo do órgão pagador': 'COD_ORGAO_PAGADOR','Nome do órgao pagador': 'NOME_ORGAO_PAGADOR',\n",
    "               'Código da unidade gestora pagadora': 'COD_UNIDADE_GESTORA_PAGADORA',\n",
    "               'Nome da unidade gestora pagadora': 'NOME_UNIDADE_GESTORA_PAGADORA','Tipo de pagamento': \n",
    "               'TIPO','Valor': 'VALOR','Identificador do processo de viagem': 'ID_PROCESSO_VIAGEM',}\n",
    "df_pagamento.rename(columns=novos_nomes, inplace=True)"
   ]
  },
  {
   "cell_type": "markdown",
   "metadata": {},
   "source": [
    "Inserção no banco"
   ]
  },
  {
   "cell_type": "code",
   "execution_count": 22,
   "metadata": {},
   "outputs": [],
   "source": [
    "from sqlalchemy import create_engine\n",
    "import urllib.parse as parse\n",
    "\n",
    "# Criar a string de conexão\n",
    "params = parse.quote_plus('')\n",
    "server_name = 'localhost'\n",
    "database_name = 'db_viagens_a_servico'\n",
    "driver_name = 'ODBC+Driver+17+for+SQL+Server'\n",
    "\n",
    "connection_string = f'mssql+pyodbc://@{server_name}/{database_name}?driver={driver_name}'\n",
    "\n",
    "# Criar a engine de conexão\n",
    "engine = create_engine(connection_string)\n",
    "\n",
    "# Conectar ao banco de dados\n",
    "conn = engine.connect()\n",
    "\n",
    "# Escrever os DataFrames para as tabelas SQL\n",
    "df_viagem.to_sql('TB_VIAGENS', con=engine, if_exists='append', index=False)\n",
    "df_passagem.to_sql('TB_PASSAGEM', con=engine, if_exists='append', index=False)\n",
    "df_trecho.to_sql('TB_TRECHO', con=engine, if_exists='append', index=False)\n",
    "df_pagamento.to_sql('TB_PAGAMENTO', con=engine, if_exists='append',index=False)\n",
    "# Fechar a conexão\n",
    "conn.close()\n",
    "\n"
   ]
  }
 ],
 "metadata": {
  "kernelspec": {
   "display_name": "venv_viagem",
   "language": "python",
   "name": "python3"
  },
  "language_info": {
   "codemirror_mode": {
    "name": "ipython",
    "version": 3
   },
   "file_extension": ".py",
   "mimetype": "text/x-python",
   "name": "python",
   "nbconvert_exporter": "python",
   "pygments_lexer": "ipython3",
   "version": "3.12.2"
  }
 },
 "nbformat": 4,
 "nbformat_minor": 2
}
